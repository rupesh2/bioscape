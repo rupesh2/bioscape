{
 "cells": [
  {
   "cell_type": "markdown",
   "id": "6ac0ac48-7ad3-4929-9746-e1414580984f",
   "metadata": {},
   "source": [
    "# List Files on S3 bucket"
   ]
  },
  {
   "cell_type": "code",
   "execution_count": 1,
   "id": "f41427e3-c04f-4111-aacf-2dcff95dd076",
   "metadata": {},
   "outputs": [],
   "source": [
    "import s3fs"
   ]
  },
  {
   "cell_type": "code",
   "execution_count": 2,
   "id": "6511bf41-0a1d-4bbd-b294-be1dabad6d7e",
   "metadata": {},
   "outputs": [
    {
     "data": {
      "text/plain": [
       "['bioscape-data/AVNG',\n",
       " 'bioscape-data/BioSCapeVegPolys2023_10_18',\n",
       " 'bioscape-data/BioSCapeVegPolys2023_10_18.parquet',\n",
       " 'bioscape-data/LVIS',\n",
       " 'bioscape-data/PRISM',\n",
       " 'bioscape-data/bioscape_avng.yaml']"
      ]
     },
     "execution_count": 2,
     "metadata": {},
     "output_type": "execute_result"
    }
   ],
   "source": [
    "s3 = s3fs.S3FileSystem(anon=False)\n",
    "files = s3.ls('bioscape-data/')\n",
    "files"
   ]
  },
  {
   "cell_type": "code",
   "execution_count": 3,
   "id": "19a06d6c-621a-44a5-83ba-5b23bdd90766",
   "metadata": {},
   "outputs": [
    {
     "data": {
      "text/plain": [
       "['bioscape-data/AVNG/ang20231022t092801/ang20231022t092801_000/ang20231022t092801_000_L1B_ORT_main_46dd9a4a_LOC',\n",
       " 'bioscape-data/AVNG/ang20231022t092801/ang20231022t092801_000/ang20231022t092801_000_L1B_ORT_main_46dd9a4a_LOC.hdr',\n",
       " 'bioscape-data/AVNG/ang20231022t092801/ang20231022t092801_000/ang20231022t092801_000_L1B_ORT_main_46dd9a4a_LOC_ORT',\n",
       " 'bioscape-data/AVNG/ang20231022t092801/ang20231022t092801_000/ang20231022t092801_000_L1B_ORT_main_46dd9a4a_LOC_ORT.hdr',\n",
       " 'bioscape-data/AVNG/ang20231022t092801/ang20231022t092801_000/ang20231022t092801_000_L1B_ORT_main_46dd9a4a_OBS',\n",
       " 'bioscape-data/AVNG/ang20231022t092801/ang20231022t092801_000/ang20231022t092801_000_L1B_ORT_main_46dd9a4a_OBS.hdr',\n",
       " 'bioscape-data/AVNG/ang20231022t092801/ang20231022t092801_000/ang20231022t092801_000_L1B_ORT_main_46dd9a4a_OBS_ORT',\n",
       " 'bioscape-data/AVNG/ang20231022t092801/ang20231022t092801_000/ang20231022t092801_000_L1B_ORT_main_46dd9a4a_OBS_ORT.hdr',\n",
       " 'bioscape-data/AVNG/ang20231022t092801/ang20231022t092801_000/ang20231022t092801_000_L2A_OE_main_27577724_RFL_ORT',\n",
       " 'bioscape-data/AVNG/ang20231022t092801/ang20231022t092801_000/ang20231022t092801_000_L2A_OE_main_27577724_RFL_ORT.hdr',\n",
       " 'bioscape-data/AVNG/ang20231022t092801/ang20231022t092801_000/ang20231022t092801_000_L2A_OE_main_27577724_RFL_ORT.json',\n",
       " 'bioscape-data/AVNG/ang20231022t092801/ang20231022t092801_000/ang20231022t092801_000_L2A_OE_main_27577724_RFL_ORT_QL.tif',\n",
       " 'bioscape-data/AVNG/ang20231022t092801/ang20231022t092801_000/ang20231022t092801_000_L2A_OE_main_27577724_UNC_ORT',\n",
       " 'bioscape-data/AVNG/ang20231022t092801/ang20231022t092801_000/ang20231022t092801_000_L2A_OE_main_27577724_UNC_ORT.hdr']"
      ]
     },
     "execution_count": 3,
     "metadata": {},
     "output_type": "execute_result"
    }
   ],
   "source": [
    "avng = s3.ls('bioscape-data/AVNG/ang20231022t092801/ang20231022t092801_000')\n",
    "avng"
   ]
  },
  {
   "cell_type": "code",
   "execution_count": 4,
   "id": "4a1b8c39-00d8-4bb8-9ffb-6633bd61aeda",
   "metadata": {},
   "outputs": [
    {
     "data": {
      "text/plain": [
       "['bioscape-data/LVIS/L1B', 'bioscape-data/LVIS/L2']"
      ]
     },
     "execution_count": 4,
     "metadata": {},
     "output_type": "execute_result"
    }
   ],
   "source": [
    "lvis = s3.ls('bioscape-data/LVIS')\n",
    "lvis"
   ]
  },
  {
   "cell_type": "code",
   "execution_count": 5,
   "id": "ba452cca-af2d-4b69-8d91-54650203a492",
   "metadata": {},
   "outputs": [
    {
     "data": {
      "text/plain": [
       "['bioscape-data/LVIS/L1B/LVISF1B_BioSCape2023_1020_R2404_027373.h5',\n",
       " 'bioscape-data/LVIS/L1B/LVISF1B_BioSCape2023_1020_R2404_027526.h5',\n",
       " 'bioscape-data/LVIS/L1B/LVISF1B_BioSCape2023_1020_R2404_027815.h5',\n",
       " 'bioscape-data/LVIS/L1B/LVISF1B_BioSCape2023_1020_R2404_027902.h5',\n",
       " 'bioscape-data/LVIS/L1B/LVISF1B_BioSCape2023_1020_R2404_027990.h5',\n",
       " 'bioscape-data/LVIS/L1B/LVISF1B_BioSCape2023_1020_R2404_028077.h5',\n",
       " 'bioscape-data/LVIS/L1B/LVISF1B_BioSCape2023_1020_R2404_028551.h5',\n",
       " 'bioscape-data/LVIS/L1B/LVISF1B_BioSCape2023_1020_R2404_028761.h5',\n",
       " 'bioscape-data/LVIS/L1B/LVISF1B_BioSCape2023_1020_R2404_028852.h5',\n",
       " 'bioscape-data/LVIS/L1B/LVISF1B_BioSCape2023_1020_R2404_028939.h5']"
      ]
     },
     "execution_count": 5,
     "metadata": {},
     "output_type": "execute_result"
    }
   ],
   "source": [
    "lvis_l1b = s3.ls('bioscape-data/LVIS/L1B')\n",
    "lvis_l1b[:10]"
   ]
  },
  {
   "cell_type": "code",
   "execution_count": 6,
   "id": "96696773-64d1-47bf-bc44-a90c31bb152c",
   "metadata": {},
   "outputs": [
    {
     "data": {
      "text/plain": [
       "['bioscape-data/LVIS/L2/LVISF2_BioSCape2023_1020_R2404_027373.TXT',\n",
       " 'bioscape-data/LVIS/L2/LVISF2_BioSCape2023_1020_R2404_027526.TXT',\n",
       " 'bioscape-data/LVIS/L2/LVISF2_BioSCape2023_1020_R2404_027815.TXT',\n",
       " 'bioscape-data/LVIS/L2/LVISF2_BioSCape2023_1020_R2404_027902.TXT',\n",
       " 'bioscape-data/LVIS/L2/LVISF2_BioSCape2023_1020_R2404_027990.TXT',\n",
       " 'bioscape-data/LVIS/L2/LVISF2_BioSCape2023_1020_R2404_028077.TXT',\n",
       " 'bioscape-data/LVIS/L2/LVISF2_BioSCape2023_1020_R2404_028551.TXT',\n",
       " 'bioscape-data/LVIS/L2/LVISF2_BioSCape2023_1020_R2404_028761.TXT',\n",
       " 'bioscape-data/LVIS/L2/LVISF2_BioSCape2023_1020_R2404_028852.TXT',\n",
       " 'bioscape-data/LVIS/L2/LVISF2_BioSCape2023_1020_R2404_028939.TXT']"
      ]
     },
     "execution_count": 6,
     "metadata": {},
     "output_type": "execute_result"
    }
   ],
   "source": [
    "lvis_l2 = s3.ls('bioscape-data/LVIS/L2')\n",
    "lvis_l2[:10]"
   ]
  },
  {
   "cell_type": "code",
   "execution_count": 7,
   "id": "f744d1a0-abb0-4f18-a966-2f24a9d431f5",
   "metadata": {},
   "outputs": [
    {
     "data": {
      "text/plain": [
       "['bioscape-data/PRISM/L2/prm20231022t141344_rfl_ort',\n",
       " 'bioscape-data/PRISM/L2/prm20231022t141344_rfl_ort.hdr',\n",
       " 'bioscape-data/PRISM/L2/prm20231025t060817_rfl_ort',\n",
       " 'bioscape-data/PRISM/L2/prm20231025t060817_rfl_ort.hdr',\n",
       " 'bioscape-data/PRISM/L2/prm20231025t062740_rfl_ort',\n",
       " 'bioscape-data/PRISM/L2/prm20231025t062740_rfl_ort.hdr',\n",
       " 'bioscape-data/PRISM/L2/prm20231025t063541_rfl_ort',\n",
       " 'bioscape-data/PRISM/L2/prm20231025t063541_rfl_ort.hdr',\n",
       " 'bioscape-data/PRISM/L2/prm20231025t064655_rfl_ort',\n",
       " 'bioscape-data/PRISM/L2/prm20231025t064655_rfl_ort.hdr']"
      ]
     },
     "execution_count": 7,
     "metadata": {},
     "output_type": "execute_result"
    }
   ],
   "source": [
    "prism = s3.ls('bioscape-data/PRISM/L2')\n",
    "prism[:10]"
   ]
  },
  {
   "cell_type": "code",
   "execution_count": null,
   "id": "94067f27-56ef-4731-958f-37f024a2b869",
   "metadata": {},
   "outputs": [],
   "source": []
  }
 ],
 "metadata": {
  "kernelspec": {
   "display_name": "Python 3 (ipykernel)",
   "language": "python",
   "name": "python3"
  },
  "language_info": {
   "codemirror_mode": {
    "name": "ipython",
    "version": 3
   },
   "file_extension": ".py",
   "mimetype": "text/x-python",
   "name": "python",
   "nbconvert_exporter": "python",
   "pygments_lexer": "ipython3",
   "version": "3.10.13"
  }
 },
 "nbformat": 4,
 "nbformat_minor": 5
}
