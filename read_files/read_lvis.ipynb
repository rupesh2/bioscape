{
 "cells": [
  {
   "cell_type": "markdown",
   "id": "0b0ddfaf-11fd-4112-833b-8e961f5432df",
   "metadata": {},
   "source": [
    "# Read a LVIS file "
   ]
  },
  {
   "cell_type": "code",
   "execution_count": 1,
   "id": "1d8d64f1-4998-49c3-94b9-7ee16e59a057",
   "metadata": {},
   "outputs": [],
   "source": [
    "from os import path\n",
    "import pandas as pd\n",
    "import geopandas as gpd\n",
    "import matplotlib.pyplot as plt\n",
    "import s3fs"
   ]
  },
  {
   "cell_type": "code",
   "execution_count": 2,
   "id": "9ad72a9a-14c6-4854-971a-57b8b5fc6ff9",
   "metadata": {},
   "outputs": [
    {
     "data": {
      "text/plain": [
       "['bioscape-data/LVIS/L1B', 'bioscape-data/LVIS/L2']"
      ]
     },
     "execution_count": 2,
     "metadata": {},
     "output_type": "execute_result"
    }
   ],
   "source": [
    "s3 = s3fs.S3FileSystem(anon=False)\n",
    "lvis = s3.ls('bioscape-data/LVIS')\n",
    "lvis"
   ]
  },
  {
   "cell_type": "code",
   "execution_count": 3,
   "id": "f03634e0-7a14-43db-aeb1-6439417072c0",
   "metadata": {},
   "outputs": [
    {
     "data": {
      "text/plain": [
       "['bioscape-data/LVIS/L2/LVISF2_BioSCape2023_1020_R2404_027373.TXT',\n",
       " 'bioscape-data/LVIS/L2/LVISF2_BioSCape2023_1020_R2404_027526.TXT',\n",
       " 'bioscape-data/LVIS/L2/LVISF2_BioSCape2023_1020_R2404_027815.TXT',\n",
       " 'bioscape-data/LVIS/L2/LVISF2_BioSCape2023_1020_R2404_027902.TXT',\n",
       " 'bioscape-data/LVIS/L2/LVISF2_BioSCape2023_1020_R2404_027990.TXT',\n",
       " 'bioscape-data/LVIS/L2/LVISF2_BioSCape2023_1020_R2404_028077.TXT',\n",
       " 'bioscape-data/LVIS/L2/LVISF2_BioSCape2023_1020_R2404_028551.TXT',\n",
       " 'bioscape-data/LVIS/L2/LVISF2_BioSCape2023_1020_R2404_028761.TXT',\n",
       " 'bioscape-data/LVIS/L2/LVISF2_BioSCape2023_1020_R2404_028852.TXT',\n",
       " 'bioscape-data/LVIS/L2/LVISF2_BioSCape2023_1020_R2404_028939.TXT']"
      ]
     },
     "execution_count": 3,
     "metadata": {},
     "output_type": "execute_result"
    }
   ],
   "source": [
    "lvis_l2 = s3.ls(lvis[1])\n",
    "# print first few files\n",
    "lvis_l2[:10]"
   ]
  },
  {
   "cell_type": "code",
   "execution_count": 4,
   "id": "8e4f2c4b-686a-4c6b-8c35-4e59cd4b6290",
   "metadata": {},
   "outputs": [],
   "source": [
    "def get_line_number(filename):\n",
    "    \"\"\"find number of header rows in LVIS L2A\"\"\"\n",
    "    count = 0\n",
    "    with s3.open(filename, 'rb') as f:\n",
    "        for line in f:\n",
    "            if line.startswith(b'#'):\n",
    "                count = count + 1\n",
    "                columns = line[1:].split()\n",
    "            else:\n",
    "                return count, columns"
   ]
  },
  {
   "cell_type": "code",
   "execution_count": 5,
   "id": "d9cc532e-94b4-4689-bad7-2b272583ac7a",
   "metadata": {},
   "outputs": [],
   "source": [
    "# read the LVIS L2A files\n",
    "lvis_f = path.join('s3://', lvis_l2[1])\n",
    "h_no, col_names = get_line_number(lvis_f)\n",
    "lvis_l2a_df = pd.read_csv(lvis_f, skiprows=h_no, header=None, engine='python', sep=r'\\s+')\n",
    "lvis_l2a_df.columns =  [x.decode() for x in col_names]"
   ]
  },
  {
   "cell_type": "code",
   "execution_count": 6,
   "id": "c075aaab-e29a-4ef9-a202-cd43154abb38",
   "metadata": {},
   "outputs": [
    {
     "data": {
      "image/png": "[encoded data removed]",
      "text/plain": [
       "<Figure size 640x480 with 2 Axes>"
      ]
     },
     "metadata": {},
     "output_type": "display_data"
    }
   ],
   "source": [
    "# plot RH100\n",
    "lvis_l2a_gdf = gpd.GeoDataFrame(\n",
    "    lvis_l2a_df, geometry=gpd.points_from_xy(lvis_l2a_df.GLON, lvis_l2a_df.GLAT), \n",
    "    crs=\"EPSG:4326\")\n",
    "lvis_l2a_gdf.plot(column=\"RH100\", legend=True, alpha=0.5, cmap='YlGn')\n",
    "plt.show()"
   ]
  },
  {
   "cell_type": "code",
   "execution_count": null,
   "id": "f07e5deb-639b-4efb-8753-24895bad5c2c",
   "metadata": {},
   "outputs": [],
   "source": []
  }
 ],
 "metadata": {
  "kernelspec": {
   "display_name": "Python 3 (ipykernel)",
   "language": "python",
   "name": "python3"
  },
  "language_info": {
   "codemirror_mode": {
    "name": "ipython",
    "version": 3
   },
   "file_extension": ".py",
   "mimetype": "text/x-python",
   "name": "python",
   "nbconvert_exporter": "python",
   "pygments_lexer": "ipython3",
   "version": "3.10.13"
  }
 },
 "nbformat": 4,
 "nbformat_minor": 5
}
